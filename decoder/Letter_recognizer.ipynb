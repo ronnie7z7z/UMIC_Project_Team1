{
 "cells": [
  {
   "cell_type": "code",
   "execution_count": 1,
   "metadata": {
    "colab": {},
    "colab_type": "code",
    "id": "MHmtfSAGlOg8"
   },
   "outputs": [],
   "source": [
    "import sys\n",
    "import os\n",
    "import torch\n",
    "import cv2 as cv\n",
    "import numpy as np\n",
    "import torchvision\n",
    "from torch import nn, optim\n",
    "import torch.nn.functional as F\n",
    "import torch.utils.data\n",
    "import torchvision.datasets as dset\n",
    "import torchvision.utils as vutils\n",
    "from torch.utils.data import DataLoader\n",
    "from torch.autograd.variable import Variable\n",
    "from torchvision import transforms, datasets\n",
    "import matplotlib.pyplot as plt\n",
    "import random\n",
    "from torch.utils.data.sampler import SubsetRandomSampler"
   ]
  },
  {
   "cell_type": "code",
   "execution_count": 2,
   "metadata": {
    "colab": {
     "base_uri": "https://localhost:8080/",
     "height": 101
    },
    "colab_type": "code",
    "id": "ci8JUQWulOhB",
    "outputId": "a3de3498-6bcb-44d6-ef44-58727415d180"
   },
   "outputs": [
    {
     "name": "stdout",
     "output_type": "stream",
     "text": [
      "3.7.8 (tags/v3.7.8:4b47a5b6ba, Jun 28 2020, 08:53:46) [MSC v.1916 64 bit (AMD64)]\n",
      "10.2\n",
      "1\n",
      "True\n"
     ]
    }
   ],
   "source": [
    "#Using GPU\n",
    "print(sys.version)\n",
    "device = 'cuda'\n",
    "#Checking for GPU\n",
    "print(torch.version.cuda)\n",
    "print(torch.cuda.device_count())\n",
    "print(torch.cuda.is_available())"
   ]
  },
  {
   "cell_type": "code",
   "execution_count": 3,
   "metadata": {
    "colab": {
     "base_uri": "https://localhost:8080/",
     "height": 50
    },
    "colab_type": "code",
    "id": "cV-uM0FAlOhE",
    "outputId": "ef7c4d40-5bde-4df9-c266-67d0e096f253"
   },
   "outputs": [
    {
     "name": "stdout",
     "output_type": "stream",
     "text": [
      "{'A': 0, 'B': 1, 'C': 2, 'D': 3, 'E': 4, 'F': 5, 'G': 6, 'H': 7, 'I': 8, 'J': 9, 'K': 10, 'L': 11, 'M': 12, 'N': 13, 'O': 14, 'P': 15, 'Q': 16, 'R': 17, 'S': 18, 'T': 19, 'U': 20, 'V': 21, 'W': 22, 'X': 23, 'Y': 24, 'Z': 25}\n",
      "{0: 'A', 1: 'B', 2: 'C', 3: 'D', 4: 'E', 5: 'F', 6: 'G', 7: 'H', 8: 'I', 9: 'J', 10: 'K', 11: 'L', 12: 'M', 13: 'N', 14: 'O', 15: 'P', 16: 'Q', 17: 'R', 18: 'S', 19: 'T', 20: 'U', 21: 'V', 22: 'W', 23: 'X', 24: 'Y', 25: 'Z'}\n"
     ]
    }
   ],
   "source": [
    "ROOT = './Alphabet_dataset/'\n",
    "\n",
    "lookup = dict()\n",
    "reverselookup = dict()\n",
    "\n",
    "count = 0\n",
    "\n",
    "for j in os.listdir(ROOT):\n",
    "    if not j.startswith('.'):\n",
    "        lookup[j] = count\n",
    "        reverselookup[count] = j\n",
    "        count += 1\n",
    "        \n",
    "print(lookup)\n",
    "print(reverselookup)"
   ]
  },
  {
   "cell_type": "code",
   "execution_count": 4,
   "metadata": {
    "colab": {
     "base_uri": "https://localhost:8080/",
     "height": 319
    },
    "colab_type": "code",
    "id": "hr7Fpf9ClOhH",
    "outputId": "040942dc-5ef2-4d65-82e4-d83db604cc22"
   },
   "outputs": [
    {
     "name": "stdout",
     "output_type": "stream",
     "text": [
      "Dataset ImageFolder\n",
      "    Number of datapoints: 26416\n",
      "    Root location: ./Alphabet_dataset/\n",
      "    StandardTransform\n",
      "Transform: Compose(\n",
      "               Resize(size=128, interpolation=PIL.Image.BILINEAR)\n",
      "               RandomResizedCrop(size=(128, 128), scale=(0.95, 1.0), ratio=(0.75, 1.3333), interpolation=PIL.Image.BILINEAR)\n",
      "               RandomRotation(degrees=(-10, 10), resample=False, expand=False)\n",
      "               ColorJitter(brightness=None, contrast=None, saturation=None, hue=None)\n",
      "               RandomHorizontalFlip(p=0.3)\n",
      "               Resize(size=128, interpolation=PIL.Image.BILINEAR)\n",
      "               ToTensor()\n",
      "               Normalize(mean=[0.485, 0.456, 0.406], std=[0.229, 0.224, 0.225])\n",
      "           )\n",
      "Size of dataset is:  26416\n",
      "Split value:  1320\n",
      "785\n",
      "42\n"
     ]
    }
   ],
   "source": [
    "datacount = 0\n",
    "image_size = 128\n",
    "\n",
    "dataset = dset.ImageFolder(root = ROOT, \n",
    "                transform = \n",
    "                transforms.Compose([\n",
    "                transforms.Resize(image_size),\n",
    "                transforms.RandomResizedCrop(size=image_size, scale=(0.95, 1.0)),\n",
    "                transforms.RandomRotation(degrees=10),\n",
    "                transforms.ColorJitter(),\n",
    "                transforms.RandomHorizontalFlip(0.3),\n",
    "                transforms.Resize(size=image_size),  # Image net standards\n",
    "                transforms.ToTensor(),\n",
    "                transforms.Normalize([0.485, 0.456, 0.406],\n",
    "                                     [0.229, 0.224, 0.225])  # Imagenet standards\n",
    "                #transforms.ToTensor(), \n",
    "                #transforms.Normalize((0.5, 0.5, 0.5), (0.5, 0.5, 0.5))\n",
    "                ]))\n",
    "\n",
    "print(dataset)\n",
    "#print(dataset[500][1])\n",
    "\n",
    "batch = 32\n",
    "random_seed = random.randint(1, 100)\n",
    "\n",
    "dataset_size = len(dataset)\n",
    "split = int(0.05*dataset_size)\n",
    "print('Size of dataset is: ', dataset_size)\n",
    "print('Split value: ', split)\n",
    "indices = list(range(dataset_size))\n",
    "\n",
    "np.random.seed(random_seed)\n",
    "np.random.shuffle(indices)\n",
    "\n",
    "train_indices, val_indices = indices[split:], indices[:split]\n",
    "\n",
    "# Creating PT data samplers and loaders:\n",
    "train_sampler = SubsetRandomSampler(train_indices)\n",
    "valid_sampler = SubsetRandomSampler(val_indices)\n",
    "\n",
    "train_loader = torch.utils.data.DataLoader(dataset, batch_size=batch, sampler=train_sampler,\n",
    "                                            num_workers = 2)\n",
    "valid_loader = torch.utils.data.DataLoader(dataset, batch_size=batch, sampler=valid_sampler,\n",
    "                                            num_workers = 2)\n",
    "\n",
    "print(len(train_loader))\n",
    "print(len(valid_loader))\n",
    "\n",
    "\n",
    "#for image, label in train_loader:\n",
    "    #print(label)"
   ]
  },
  {
   "cell_type": "code",
   "execution_count": 5,
   "metadata": {
    "colab": {
     "base_uri": "https://localhost:8080/",
     "height": 34
    },
    "colab_type": "code",
    "id": "TrB04PSAlOhK",
    "outputId": "ea5c865e-961a-452f-8f1f-3ec05bf2906b"
   },
   "outputs": [
    {
     "name": "stdout",
     "output_type": "stream",
     "text": [
      "tensor([17,  6, 15,  9,  4,  1, 10, 25, 24, 21,  2, 10,  6,  7, 22, 18, 10,  4,\n",
      "        21,  3, 18,  3, 21,  2, 16, 24, 14, 15, 10, 12, 25,  9])\n"
     ]
    }
   ],
   "source": [
    "# Iterate through the dataloader once\n",
    "trainiter = iter(train_loader)\n",
    "features, labels = next(trainiter)\n",
    "features.shape, labels.shape\n",
    "print(labels)"
   ]
  },
  {
   "cell_type": "code",
   "execution_count": 6,
   "metadata": {
    "colab": {
     "base_uri": "https://localhost:8080/",
     "height": 336
    },
    "colab_type": "code",
    "id": "x6Fr4KYYlOhN",
    "outputId": "d8950f41-49fe-4799-a3dc-a4dfd42599e3"
   },
   "outputs": [
    {
     "name": "stdout",
     "output_type": "stream",
     "text": [
      "Image shape:  (128, 128)\n",
      "Number of letters:  26\n",
      "Number of rows:  5\n"
     ]
    },
    {
     "data": {
      "text/plain": [
       "<matplotlib.image.AxesImage at 0x187f579d988>"
      ]
     },
     "execution_count": 6,
     "metadata": {},
     "output_type": "execute_result"
    },
    {
     "data": {
      "image/png": "[encoded data removed]",
      "text/plain": [
       "<Figure size 432x288 with 1 Axes>"
      ]
     },
     "metadata": {
      "needs_background": "light"
     },
     "output_type": "display_data"
    }
   ],
   "source": [
    "def get_image_shape():\n",
    "    img = cv.imread(ROOT + 'A/img011-00001.png', 0)\n",
    "    return img.shape\n",
    "\n",
    "\n",
    "img_shape = get_image_shape()\n",
    "print('Image shape: ', img_shape)\n",
    "gesture_data = os.listdir(ROOT)\n",
    "num_g = len(gesture_data)\n",
    "print('Number of letters: ', num_g)\n",
    "\n",
    "num_cols = 6\n",
    "num_rows = int(num_g/num_cols)\n",
    "\n",
    "if(num_g%num_cols):\n",
    "    num_rows+=1\n",
    "\n",
    "print('Number of rows: ', num_rows)\n",
    "\n",
    "begin = 0\n",
    "final_img = None\n",
    "\n",
    "for i in range(num_rows):\n",
    "    row_img = None\n",
    "    for j in range(begin, begin+num_cols):\n",
    "        if (j>= num_g):\n",
    "            img = np.zeros(img_shape, dtype = np.uint8)\n",
    "            img[:,:] = 255\n",
    "            #print('Image index: ', j, 'false')\n",
    "            \n",
    "        else:         \n",
    "            imgpath = ROOT + reverselookup[j] + '/img0' + str(j+11) + '-00359' + '.png'\n",
    "            img = cv.imread(imgpath, 0)\n",
    "            #if not np.any(img == None):\n",
    "                #print('Image index: ', j, 'true')\n",
    "            \n",
    "        if np.any(row_img == None):\n",
    "            row_img = img\n",
    "        else:\n",
    "            row_img = np.hstack((row_img, img))\n",
    "            \n",
    "    begin += num_cols\n",
    "    if np.any(final_img == None):\n",
    "            final_img = row_img\n",
    "    else:\n",
    "        final_img = np.vstack((final_img, row_img))  \n",
    "                        \n",
    "plt.imshow(final_img, cmap='gray')\n",
    "#cv.waitKey(0)\n",
    "#cv.destroyAllWindows()        "
   ]
  },
  {
   "cell_type": "code",
   "execution_count": 7,
   "metadata": {
    "colab": {
     "base_uri": "https://localhost:8080/",
     "height": 264
    },
    "colab_type": "code",
    "id": "10-e-DTXlOhQ",
    "outputId": "174e0018-7467-4e0c-f238-78afb54a5363"
   },
   "outputs": [
    {
     "data": {
      "image/png": "[encoded data removed]",
      "text/plain": [
       "<Figure size 432x288 with 26 Axes>"
      ]
     },
     "metadata": {
      "needs_background": "light"
     },
     "output_type": "display_data"
    }
   ],
   "source": [
    "gestures = []\n",
    "titles = []\n",
    "\n",
    "for i in range(num_g):\n",
    "    imgpath = ROOT + reverselookup[i] + '/img0' + str(i+11) + '-00359' + '.png'\n",
    "    img = cv.imread(imgpath, 0)\n",
    "    gestures.append(img)\n",
    "    titles.append(reverselookup[i])\n",
    "    \n",
    "for i in range(num_g):\n",
    "    plt.subplot(2, 13, i+1)\n",
    "    plt.imshow(gestures[i], cmap='gray')\n",
    "    plt.title(titles[i])\n",
    "    plt.axis('off')"
   ]
  },
  {
   "cell_type": "code",
   "execution_count": 18,
   "metadata": {
    "colab": {
     "base_uri": "https://localhost:8080/",
     "height": 82,
     "referenced_widgets": [
      "a626e330f5f7437492f14b3bd8658e4e",
      "dacda0158fcb4c9495fda3f936d92470",
      "22fe724ce40e434cb9f6191ea5eee2c4",
      "44e563736f514d80b3c807a72372d942",
      "cead64c05a744f53b6fa4502206941f6",
      "e71046d5b8f1482e897065e3e80b13d8",
      "6065e836325d4088a371a29b735cb189",
      "c94cb54e16584473957cfc4728f92822"
     ]
    },
    "colab_type": "code",
    "id": "KzO_7weRlOhT",
    "outputId": "4a8e380c-fd84-4154-b6c5-e04667f818c7"
   },
   "outputs": [],
   "source": [
    "from torchvision import models\n",
    "model = models.resnet18(pretrained=True)\n",
    "for param in model.parameters():\n",
    "    param.requires_grad = False"
   ]
  },
  {
   "cell_type": "code",
   "execution_count": 19,
   "metadata": {
    "colab": {
     "base_uri": "https://localhost:8080/",
     "height": 1000
    },
    "colab_type": "code",
    "id": "aVno7LbllOhW",
    "outputId": "f240d3ce-8d6d-4a5a-d77d-7ed445d95db4"
   },
   "outputs": [
    {
     "name": "stdout",
     "output_type": "stream",
     "text": [
      "ResNet(\n",
      "  (conv1): Conv2d(3, 64, kernel_size=(7, 7), stride=(2, 2), padding=(3, 3), bias=False)\n",
      "  (bn1): BatchNorm2d(64, eps=1e-05, momentum=0.1, affine=True, track_running_stats=True)\n",
      "  (relu): ReLU(inplace=True)\n",
      "  (maxpool): MaxPool2d(kernel_size=3, stride=2, padding=1, dilation=1, ceil_mode=False)\n",
      "  (layer1): Sequential(\n",
      "    (0): BasicBlock(\n",
      "      (conv1): Conv2d(64, 64, kernel_size=(3, 3), stride=(1, 1), padding=(1, 1), bias=False)\n",
      "      (bn1): BatchNorm2d(64, eps=1e-05, momentum=0.1, affine=True, track_running_stats=True)\n",
      "      (relu): ReLU(inplace=True)\n",
      "      (conv2): Conv2d(64, 64, kernel_size=(3, 3), stride=(1, 1), padding=(1, 1), bias=False)\n",
      "      (bn2): BatchNorm2d(64, eps=1e-05, momentum=0.1, affine=True, track_running_stats=True)\n",
      "    )\n",
      "    (1): BasicBlock(\n",
      "      (conv1): Conv2d(64, 64, kernel_size=(3, 3), stride=(1, 1), padding=(1, 1), bias=False)\n",
      "      (bn1): BatchNorm2d(64, eps=1e-05, momentum=0.1, affine=True, track_running_stats=True)\n",
      "      (relu): ReLU(inplace=True)\n",
      "      (conv2): Conv2d(64, 64, kernel_size=(3, 3), stride=(1, 1), padding=(1, 1), bias=False)\n",
      "      (bn2): BatchNorm2d(64, eps=1e-05, momentum=0.1, affine=True, track_running_stats=True)\n",
      "    )\n",
      "  )\n",
      "  (layer2): Sequential(\n",
      "    (0): BasicBlock(\n",
      "      (conv1): Conv2d(64, 128, kernel_size=(3, 3), stride=(2, 2), padding=(1, 1), bias=False)\n",
      "      (bn1): BatchNorm2d(128, eps=1e-05, momentum=0.1, affine=True, track_running_stats=True)\n",
      "      (relu): ReLU(inplace=True)\n",
      "      (conv2): Conv2d(128, 128, kernel_size=(3, 3), stride=(1, 1), padding=(1, 1), bias=False)\n",
      "      (bn2): BatchNorm2d(128, eps=1e-05, momentum=0.1, affine=True, track_running_stats=True)\n",
      "      (downsample): Sequential(\n",
      "        (0): Conv2d(64, 128, kernel_size=(1, 1), stride=(2, 2), bias=False)\n",
      "        (1): BatchNorm2d(128, eps=1e-05, momentum=0.1, affine=True, track_running_stats=True)\n",
      "      )\n",
      "    )\n",
      "    (1): BasicBlock(\n",
      "      (conv1): Conv2d(128, 128, kernel_size=(3, 3), stride=(1, 1), padding=(1, 1), bias=False)\n",
      "      (bn1): BatchNorm2d(128, eps=1e-05, momentum=0.1, affine=True, track_running_stats=True)\n",
      "      (relu): ReLU(inplace=True)\n",
      "      (conv2): Conv2d(128, 128, kernel_size=(3, 3), stride=(1, 1), padding=(1, 1), bias=False)\n",
      "      (bn2): BatchNorm2d(128, eps=1e-05, momentum=0.1, affine=True, track_running_stats=True)\n",
      "    )\n",
      "  )\n",
      "  (layer3): Sequential(\n",
      "    (0): BasicBlock(\n",
      "      (conv1): Conv2d(128, 256, kernel_size=(3, 3), stride=(2, 2), padding=(1, 1), bias=False)\n",
      "      (bn1): BatchNorm2d(256, eps=1e-05, momentum=0.1, affine=True, track_running_stats=True)\n",
      "      (relu): ReLU(inplace=True)\n",
      "      (conv2): Conv2d(256, 256, kernel_size=(3, 3), stride=(1, 1), padding=(1, 1), bias=False)\n",
      "      (bn2): BatchNorm2d(256, eps=1e-05, momentum=0.1, affine=True, track_running_stats=True)\n",
      "      (downsample): Sequential(\n",
      "        (0): Conv2d(128, 256, kernel_size=(1, 1), stride=(2, 2), bias=False)\n",
      "        (1): BatchNorm2d(256, eps=1e-05, momentum=0.1, affine=True, track_running_stats=True)\n",
      "      )\n",
      "    )\n",
      "    (1): BasicBlock(\n",
      "      (conv1): Conv2d(256, 256, kernel_size=(3, 3), stride=(1, 1), padding=(1, 1), bias=False)\n",
      "      (bn1): BatchNorm2d(256, eps=1e-05, momentum=0.1, affine=True, track_running_stats=True)\n",
      "      (relu): ReLU(inplace=True)\n",
      "      (conv2): Conv2d(256, 256, kernel_size=(3, 3), stride=(1, 1), padding=(1, 1), bias=False)\n",
      "      (bn2): BatchNorm2d(256, eps=1e-05, momentum=0.1, affine=True, track_running_stats=True)\n",
      "    )\n",
      "  )\n",
      "  (layer4): Sequential(\n",
      "    (0): BasicBlock(\n",
      "      (conv1): Conv2d(256, 512, kernel_size=(3, 3), stride=(2, 2), padding=(1, 1), bias=False)\n",
      "      (bn1): BatchNorm2d(512, eps=1e-05, momentum=0.1, affine=True, track_running_stats=True)\n",
      "      (relu): ReLU(inplace=True)\n",
      "      (conv2): Conv2d(512, 512, kernel_size=(3, 3), stride=(1, 1), padding=(1, 1), bias=False)\n",
      "      (bn2): BatchNorm2d(512, eps=1e-05, momentum=0.1, affine=True, track_running_stats=True)\n",
      "      (downsample): Sequential(\n",
      "        (0): Conv2d(256, 512, kernel_size=(1, 1), stride=(2, 2), bias=False)\n",
      "        (1): BatchNorm2d(512, eps=1e-05, momentum=0.1, affine=True, track_running_stats=True)\n",
      "      )\n",
      "    )\n",
      "    (1): BasicBlock(\n",
      "      (conv1): Conv2d(512, 512, kernel_size=(3, 3), stride=(1, 1), padding=(1, 1), bias=False)\n",
      "      (bn1): BatchNorm2d(512, eps=1e-05, momentum=0.1, affine=True, track_running_stats=True)\n",
      "      (relu): ReLU(inplace=True)\n",
      "      (conv2): Conv2d(512, 512, kernel_size=(3, 3), stride=(1, 1), padding=(1, 1), bias=False)\n",
      "      (bn2): BatchNorm2d(512, eps=1e-05, momentum=0.1, affine=True, track_running_stats=True)\n",
      "    )\n",
      "  )\n",
      "  (avgpool): AdaptiveAvgPool2d(output_size=(1, 1))\n",
      "  (fc): Linear(in_features=512, out_features=1000, bias=True)\n",
      ")\n"
     ]
    }
   ],
   "source": [
    "print(model)"
   ]
  },
  {
   "cell_type": "code",
   "execution_count": 20,
   "metadata": {
    "colab": {
     "base_uri": "https://localhost:8080/",
     "height": 1000
    },
    "colab_type": "code",
    "id": "VB9MoHJDlOhZ",
    "outputId": "2cf46907-ff24-488d-ea31-428e0b9ae306"
   },
   "outputs": [
    {
     "name": "stdout",
     "output_type": "stream",
     "text": [
      "ResNet(\n",
      "  (conv1): Conv2d(3, 64, kernel_size=(7, 7), stride=(2, 2), padding=(3, 3), bias=False)\n",
      "  (bn1): BatchNorm2d(64, eps=1e-05, momentum=0.1, affine=True, track_running_stats=True)\n",
      "  (relu): ReLU(inplace=True)\n",
      "  (maxpool): MaxPool2d(kernel_size=3, stride=2, padding=1, dilation=1, ceil_mode=False)\n",
      "  (layer1): Sequential(\n",
      "    (0): BasicBlock(\n",
      "      (conv1): Conv2d(64, 64, kernel_size=(3, 3), stride=(1, 1), padding=(1, 1), bias=False)\n",
      "      (bn1): BatchNorm2d(64, eps=1e-05, momentum=0.1, affine=True, track_running_stats=True)\n",
      "      (relu): ReLU(inplace=True)\n",
      "      (conv2): Conv2d(64, 64, kernel_size=(3, 3), stride=(1, 1), padding=(1, 1), bias=False)\n",
      "      (bn2): BatchNorm2d(64, eps=1e-05, momentum=0.1, affine=True, track_running_stats=True)\n",
      "    )\n",
      "    (1): BasicBlock(\n",
      "      (conv1): Conv2d(64, 64, kernel_size=(3, 3), stride=(1, 1), padding=(1, 1), bias=False)\n",
      "      (bn1): BatchNorm2d(64, eps=1e-05, momentum=0.1, affine=True, track_running_stats=True)\n",
      "      (relu): ReLU(inplace=True)\n",
      "      (conv2): Conv2d(64, 64, kernel_size=(3, 3), stride=(1, 1), padding=(1, 1), bias=False)\n",
      "      (bn2): BatchNorm2d(64, eps=1e-05, momentum=0.1, affine=True, track_running_stats=True)\n",
      "    )\n",
      "  )\n",
      "  (layer2): Sequential(\n",
      "    (0): BasicBlock(\n",
      "      (conv1): Conv2d(64, 128, kernel_size=(3, 3), stride=(2, 2), padding=(1, 1), bias=False)\n",
      "      (bn1): BatchNorm2d(128, eps=1e-05, momentum=0.1, affine=True, track_running_stats=True)\n",
      "      (relu): ReLU(inplace=True)\n",
      "      (conv2): Conv2d(128, 128, kernel_size=(3, 3), stride=(1, 1), padding=(1, 1), bias=False)\n",
      "      (bn2): BatchNorm2d(128, eps=1e-05, momentum=0.1, affine=True, track_running_stats=True)\n",
      "      (downsample): Sequential(\n",
      "        (0): Conv2d(64, 128, kernel_size=(1, 1), stride=(2, 2), bias=False)\n",
      "        (1): BatchNorm2d(128, eps=1e-05, momentum=0.1, affine=True, track_running_stats=True)\n",
      "      )\n",
      "    )\n",
      "    (1): BasicBlock(\n",
      "      (conv1): Conv2d(128, 128, kernel_size=(3, 3), stride=(1, 1), padding=(1, 1), bias=False)\n",
      "      (bn1): BatchNorm2d(128, eps=1e-05, momentum=0.1, affine=True, track_running_stats=True)\n",
      "      (relu): ReLU(inplace=True)\n",
      "      (conv2): Conv2d(128, 128, kernel_size=(3, 3), stride=(1, 1), padding=(1, 1), bias=False)\n",
      "      (bn2): BatchNorm2d(128, eps=1e-05, momentum=0.1, affine=True, track_running_stats=True)\n",
      "    )\n",
      "  )\n",
      "  (layer3): Sequential(\n",
      "    (0): BasicBlock(\n",
      "      (conv1): Conv2d(128, 256, kernel_size=(3, 3), stride=(2, 2), padding=(1, 1), bias=False)\n",
      "      (bn1): BatchNorm2d(256, eps=1e-05, momentum=0.1, affine=True, track_running_stats=True)\n",
      "      (relu): ReLU(inplace=True)\n",
      "      (conv2): Conv2d(256, 256, kernel_size=(3, 3), stride=(1, 1), padding=(1, 1), bias=False)\n",
      "      (bn2): BatchNorm2d(256, eps=1e-05, momentum=0.1, affine=True, track_running_stats=True)\n",
      "      (downsample): Sequential(\n",
      "        (0): Conv2d(128, 256, kernel_size=(1, 1), stride=(2, 2), bias=False)\n",
      "        (1): BatchNorm2d(256, eps=1e-05, momentum=0.1, affine=True, track_running_stats=True)\n",
      "      )\n",
      "    )\n",
      "    (1): BasicBlock(\n",
      "      (conv1): Conv2d(256, 256, kernel_size=(3, 3), stride=(1, 1), padding=(1, 1), bias=False)\n",
      "      (bn1): BatchNorm2d(256, eps=1e-05, momentum=0.1, affine=True, track_running_stats=True)\n",
      "      (relu): ReLU(inplace=True)\n",
      "      (conv2): Conv2d(256, 256, kernel_size=(3, 3), stride=(1, 1), padding=(1, 1), bias=False)\n",
      "      (bn2): BatchNorm2d(256, eps=1e-05, momentum=0.1, affine=True, track_running_stats=True)\n",
      "    )\n",
      "  )\n",
      "  (layer4): Sequential(\n",
      "    (0): BasicBlock(\n",
      "      (conv1): Conv2d(256, 512, kernel_size=(3, 3), stride=(2, 2), padding=(1, 1), bias=False)\n",
      "      (bn1): BatchNorm2d(512, eps=1e-05, momentum=0.1, affine=True, track_running_stats=True)\n",
      "      (relu): ReLU(inplace=True)\n",
      "      (conv2): Conv2d(512, 512, kernel_size=(3, 3), stride=(1, 1), padding=(1, 1), bias=False)\n",
      "      (bn2): BatchNorm2d(512, eps=1e-05, momentum=0.1, affine=True, track_running_stats=True)\n",
      "      (downsample): Sequential(\n",
      "        (0): Conv2d(256, 512, kernel_size=(1, 1), stride=(2, 2), bias=False)\n",
      "        (1): BatchNorm2d(512, eps=1e-05, momentum=0.1, affine=True, track_running_stats=True)\n",
      "      )\n",
      "    )\n",
      "    (1): BasicBlock(\n",
      "      (conv1): Conv2d(512, 512, kernel_size=(3, 3), stride=(1, 1), padding=(1, 1), bias=False)\n",
      "      (bn1): BatchNorm2d(512, eps=1e-05, momentum=0.1, affine=True, track_running_stats=True)\n",
      "      (relu): ReLU(inplace=True)\n",
      "      (conv2): Conv2d(512, 512, kernel_size=(3, 3), stride=(1, 1), padding=(1, 1), bias=False)\n",
      "      (bn2): BatchNorm2d(512, eps=1e-05, momentum=0.1, affine=True, track_running_stats=True)\n",
      "    )\n",
      "  )\n",
      "  (avgpool): AdaptiveAvgPool2d(output_size=(1, 1))\n",
      "  (fc): Sequential(\n",
      "    (0): Linear(in_features=512, out_features=512, bias=True)\n",
      "    (1): ReLU()\n",
      "    (2): Linear(in_features=512, out_features=512, bias=True)\n",
      "    (3): ReLU()\n",
      "    (4): Dropout(p=0.3, inplace=False)\n",
      "    (5): Linear(in_features=512, out_features=26, bias=True)\n",
      "    (6): LogSoftmax(dim=1)\n",
      "  )\n",
      ")\n"
     ]
    }
   ],
   "source": [
    "n_classes = 26\n",
    "\n",
    "model.fc = nn.Sequential(\n",
    "                      nn.Linear(512, 512), \n",
    "                      nn.ReLU(), \n",
    "                      nn.Linear(512, 512), \n",
    "                      nn.ReLU(),\n",
    "                      nn.Dropout(0.3), \n",
    "                      nn.Linear(512, n_classes),                   \n",
    "                      nn.LogSoftmax(dim=1))\n",
    "\n",
    "print(model)"
   ]
  },
  {
   "cell_type": "code",
   "execution_count": 21,
   "metadata": {
    "colab": {
     "base_uri": "https://localhost:8080/",
     "height": 50
    },
    "colab_type": "code",
    "id": "CYTxJ2w_lOhb",
    "outputId": "34f7c97c-65b0-480a-830d-45e0d914ac1b"
   },
   "outputs": [
    {
     "name": "stdout",
     "output_type": "stream",
     "text": [
      "11,715,162 total parameters\n",
      "538,650 trainable parameters.\n"
     ]
    }
   ],
   "source": [
    "total_params = sum(p.numel() for p in model.parameters())\n",
    "\n",
    "print(f'{total_params:,} total parameters')\n",
    "\n",
    "total_trainable = sum(p.numel() for p in model.parameters() if p.requires_grad)\n",
    "\n",
    "print(f'{total_trainable:,} trainable parameters.')"
   ]
  },
  {
   "cell_type": "code",
   "execution_count": 22,
   "metadata": {
    "colab": {},
    "colab_type": "code",
    "id": "UvYn0mxHlOhe"
   },
   "outputs": [],
   "source": [
    "# Move to gpu\n",
    "model = model.to(device)\n",
    "# Distribute across 2 gpus\n",
    "model = nn.DataParallel(model)\n",
    "\n",
    "loss_func = F.cross_entropy\n",
    "optimizer = optim.Adam(model.parameters(), betas=(0.9, 0.999), lr = 0.001)\n"
   ]
  },
  {
   "cell_type": "code",
   "execution_count": 23,
   "metadata": {
    "colab": {},
    "colab_type": "code",
    "id": "1Xov_0milOhh"
   },
   "outputs": [],
   "source": [
    "def accuracy(out, yb):\n",
    "    pred = torch.argmax(out, keepdim= False, dim=1)\n",
    "    return (pred == yb).float().mean() "
   ]
  },
  {
   "cell_type": "code",
   "execution_count": 24,
   "metadata": {
    "colab": {},
    "colab_type": "code",
    "id": "y4K2vMYllOhk"
   },
   "outputs": [],
   "source": [
    "def fit(model, epochs, train_loader, valid_loader, opt):\n",
    "    losses = []\n",
    "    \n",
    "    for epoch in range(epochs):\n",
    "        train_loss =0\n",
    "        train_acc =0\n",
    "        model.train()\n",
    "        for xb, yb in train_loader:\n",
    "            xb =xb.to(device)\n",
    "            yb = yb.to(device)\n",
    "            pred = model(xb.float())\n",
    "            pred.to(device)\n",
    "            train_acc += accuracy(pred, yb)\n",
    "            loss = loss_func(pred, yb)\n",
    "            train_loss += loss\n",
    "            #back propogation\n",
    "            loss.backward()\n",
    "            opt.step()\n",
    "            opt.zero_grad()      \n",
    "\n",
    "        losses.append(train_loss)\n",
    "        print(\"Iteration no: \"+ str(epoch+1), \"loss = \"+str(losses[epoch].item()))\n",
    "        print(\"Accuracy of train set:\", train_acc/len(train_loader))\n",
    "        lr_scheduler.step(train_loss/len(train_loader))\n",
    "        \n",
    "        \n",
    "        model.eval()    \n",
    "        with torch.no_grad():\n",
    "            valid_acc=0\n",
    "            loss_valid = 0\n",
    "            for xb_valid, yb_valid in valid_loader:\n",
    "                xb_valid = xb_valid.to(device)\n",
    "                yb_valid = yb_valid.to(device)\n",
    "                pred_valid = model(xb_valid.float())\n",
    "                pred_valid.to(device)\n",
    "                valid_acc += accuracy(pred_valid, yb_valid)\n",
    "                loss_valid += loss_func(pred_valid, yb_valid)\n",
    "            print(\"Accuracy of validation set :\", valid_acc/len(valid_loader))\n",
    "            #callbacks = [EarlyStopping(monitor='valid_acc', verbose=False, mode='max', patience=10)]\n",
    "\n",
    "    plt.plot(losses)\n",
    "    plt.ylabel(\"loss\")\n",
    "    plt.xlabel(\"iterations\")\n",
    "    plt.show()"
   ]
  },
  {
   "cell_type": "code",
   "execution_count": 25,
   "metadata": {
    "colab": {},
    "colab_type": "code",
    "id": "LPY1lGz4M4k3"
   },
   "outputs": [],
   "source": [
    "#model.set_callbacks(callbacks)\n",
    "\n",
    "lr_scheduler = torch.optim.lr_scheduler.ReduceLROnPlateau(optimizer, patience=1, verbose=True, eps = 10e-14)"
   ]
  },
  {
   "cell_type": "code",
   "execution_count": 26,
   "metadata": {
    "colab": {
     "base_uri": "https://localhost:8080/",
     "height": 1000
    },
    "colab_type": "code",
    "id": "FRhPBGl2lOhm",
    "outputId": "a44f27db-f388-410d-b959-2b2c2ed362c8"
   },
   "outputs": [
    {
     "name": "stdout",
     "output_type": "stream",
     "text": [
      "Iteration no: 1 loss = 889.8927612304688\n",
      "Accuracy of train set: tensor(0.6603, device='cuda:0')\n",
      "Accuracy of validation set : tensor(0.8043, device='cuda:0')\n",
      "Iteration no: 2 loss = 571.1222534179688\n",
      "Accuracy of train set: tensor(0.7826, device='cuda:0')\n",
      "Accuracy of validation set : tensor(0.8199, device='cuda:0')\n",
      "Iteration no: 3 loss = 510.4540100097656\n",
      "Accuracy of train set: tensor(0.8073, device='cuda:0')\n",
      "Accuracy of validation set : tensor(0.8385, device='cuda:0')\n",
      "Iteration no: 4 loss = 472.87847900390625\n",
      "Accuracy of train set: tensor(0.8177, device='cuda:0')\n",
      "Accuracy of validation set : tensor(0.8557, device='cuda:0')\n",
      "Iteration no: 5 loss = 451.7557678222656\n",
      "Accuracy of train set: tensor(0.8293, device='cuda:0')\n",
      "Accuracy of validation set : tensor(0.8490, device='cuda:0')\n",
      "Iteration no: 6 loss = 428.271728515625\n",
      "Accuracy of train set: tensor(0.8365, device='cuda:0')\n",
      "Accuracy of validation set : tensor(0.8750, device='cuda:0')\n",
      "Iteration no: 7 loss = 416.9744873046875\n",
      "Accuracy of train set: tensor(0.8392, device='cuda:0')\n",
      "Accuracy of validation set : tensor(0.8586, device='cuda:0')\n",
      "Iteration no: 8 loss = 404.8550109863281\n",
      "Accuracy of train set: tensor(0.8451, device='cuda:0')\n",
      "Accuracy of validation set : tensor(0.8720, device='cuda:0')\n",
      "Iteration no: 9 loss = 390.1201171875\n",
      "Accuracy of train set: tensor(0.8492, device='cuda:0')\n",
      "Accuracy of validation set : tensor(0.8832, device='cuda:0')\n",
      "Iteration no: 10 loss = 386.524169921875\n",
      "Accuracy of train set: tensor(0.8514, device='cuda:0')\n",
      "Accuracy of validation set : tensor(0.8772, device='cuda:0')\n",
      "Iteration no: 11 loss = 376.7030029296875\n",
      "Accuracy of train set: tensor(0.8548, device='cuda:0')\n",
      "Accuracy of validation set : tensor(0.8728, device='cuda:0')\n",
      "Iteration no: 12 loss = 367.9458923339844\n",
      "Accuracy of train set: tensor(0.8578, device='cuda:0')\n",
      "Accuracy of validation set : tensor(0.8795, device='cuda:0')\n",
      "Iteration no: 13 loss = 364.0740661621094\n",
      "Accuracy of train set: tensor(0.8584, device='cuda:0')\n",
      "Accuracy of validation set : tensor(0.8698, device='cuda:0')\n",
      "Iteration no: 14 loss = 363.2066345214844\n",
      "Accuracy of train set: tensor(0.8585, device='cuda:0')\n",
      "Accuracy of validation set : tensor(0.8743, device='cuda:0')\n",
      "Iteration no: 15 loss = 349.2232971191406\n",
      "Accuracy of train set: tensor(0.8634, device='cuda:0')\n",
      "Accuracy of validation set : tensor(0.8780, device='cuda:0')\n",
      "Iteration no: 16 loss = 350.381103515625\n",
      "Accuracy of train set: tensor(0.8633, device='cuda:0')\n",
      "Accuracy of validation set : tensor(0.8750, device='cuda:0')\n",
      "Iteration no: 17 loss = 346.5408630371094\n",
      "Accuracy of train set: tensor(0.8644, device='cuda:0')\n",
      "Accuracy of validation set : tensor(0.8951, device='cuda:0')\n",
      "Iteration no: 18 loss = 342.1555480957031\n",
      "Accuracy of train set: tensor(0.8668, device='cuda:0')\n",
      "Accuracy of validation set : tensor(0.8720, device='cuda:0')\n",
      "Iteration no: 19 loss = 334.84539794921875\n",
      "Accuracy of train set: tensor(0.8689, device='cuda:0')\n",
      "Accuracy of validation set : tensor(0.8906, device='cuda:0')\n",
      "Iteration no: 20 loss = 335.3248291015625\n",
      "Accuracy of train set: tensor(0.8691, device='cuda:0')\n",
      "Accuracy of validation set : tensor(0.8876, device='cuda:0')\n",
      "Iteration no: 21 loss = 335.47314453125\n",
      "Accuracy of train set: tensor(0.8701, device='cuda:0')\n",
      "Epoch    21: reducing learning rate of group 0 to 1.0000e-04.\n",
      "Accuracy of validation set : tensor(0.8943, device='cuda:0')\n",
      "Iteration no: 22 loss = 270.267333984375\n",
      "Accuracy of train set: tensor(0.8914, device='cuda:0')\n",
      "Accuracy of validation set : tensor(0.9018, device='cuda:0')\n",
      "Iteration no: 23 loss = 255.68624877929688\n",
      "Accuracy of train set: tensor(0.8996, device='cuda:0')\n",
      "Accuracy of validation set : tensor(0.9137, device='cuda:0')\n",
      "Iteration no: 24 loss = 249.090087890625\n",
      "Accuracy of train set: tensor(0.8992, device='cuda:0')\n",
      "Accuracy of validation set : tensor(0.9107, device='cuda:0')\n",
      "Iteration no: 25 loss = 244.5266571044922\n",
      "Accuracy of train set: tensor(0.9043, device='cuda:0')\n",
      "Accuracy of validation set : tensor(0.9189, device='cuda:0')\n",
      "Iteration no: 26 loss = 244.2067413330078\n",
      "Accuracy of train set: tensor(0.9033, device='cuda:0')\n",
      "Accuracy of validation set : tensor(0.9182, device='cuda:0')\n",
      "Iteration no: 27 loss = 236.36106872558594\n",
      "Accuracy of train set: tensor(0.9060, device='cuda:0')\n",
      "Accuracy of validation set : tensor(0.9204, device='cuda:0')\n",
      "Iteration no: 28 loss = 237.07180786132812\n",
      "Accuracy of train set: tensor(0.9057, device='cuda:0')\n",
      "Accuracy of validation set : tensor(0.9174, device='cuda:0')\n",
      "Iteration no: 29 loss = 235.27975463867188\n",
      "Accuracy of train set: tensor(0.9066, device='cuda:0')\n",
      "Accuracy of validation set : tensor(0.9107, device='cuda:0')\n",
      "Iteration no: 30 loss = 227.3458251953125\n",
      "Accuracy of train set: tensor(0.9080, device='cuda:0')\n",
      "Accuracy of validation set : tensor(0.9100, device='cuda:0')\n"
     ]
    },
    {
     "data": {
      "image/png": "[encoded data removed]",
      "text/plain": [
       "<Figure size 432x288 with 1 Axes>"
      ]
     },
     "metadata": {
      "needs_background": "light"
     },
     "output_type": "display_data"
    }
   ],
   "source": [
    "fit(model, 30, train_loader, valid_loader, optimizer)"
   ]
  },
  {
   "cell_type": "code",
   "execution_count": 27,
   "metadata": {
    "colab": {},
    "colab_type": "code",
    "id": "YiT0bOYYlOhp"
   },
   "outputs": [],
   "source": [
    "torch.save(model, './gest_full_resnet18.pth')"
   ]
  },
  {
   "cell_type": "code",
   "execution_count": null,
   "metadata": {
    "colab": {},
    "colab_type": "code",
    "id": "ZF7qlKo8rYM6"
   },
   "outputs": [],
   "source": []
  }
 ],
 "metadata": {
  "accelerator": "GPU",
  "colab": {
   "collapsed_sections": [],
   "name": "Letter_recognizer.ipynb",
   "provenance": []
  },
  "kernelspec": {
   "display_name": "Python 3",
   "language": "python",
   "name": "python3"
  },
  "language_info": {
   "codemirror_mode": {
    "name": "ipython",
    "version": 3
   },
   "file_extension": ".py",
   "mimetype": "text/x-python",
   "name": "python",
   "nbconvert_exporter": "python",
   "pygments_lexer": "ipython3",
   "version": "3.7.8"
  },
  "widgets": {
   "application/vnd.jupyter.widget-state+json": {
    "22fe724ce40e434cb9f6191ea5eee2c4": {
     "model_module": "@jupyter-widgets/controls",
     "model_name": "FloatProgressModel",
     "state": {
      "_dom_classes": [],
      "_model_module": "@jupyter-widgets/controls",
      "_model_module_version": "1.5.0",
      "_model_name": "FloatProgressModel",
      "_view_count": null,
      "_view_module": "@jupyter-widgets/controls",
      "_view_module_version": "1.5.0",
      "_view_name": "ProgressView",
      "bar_style": "success",
      "description": "100%",
      "description_tooltip": null,
      "layout": "IPY_MODEL_e71046d5b8f1482e897065e3e80b13d8",
      "max": 102502400,
      "min": 0,
      "orientation": "horizontal",
      "style": "IPY_MODEL_cead64c05a744f53b6fa4502206941f6",
      "value": 102502400
     }
    },
    "44e563736f514d80b3c807a72372d942": {
     "model_module": "@jupyter-widgets/controls",
     "model_name": "HTMLModel",
     "state": {
      "_dom_classes": [],
      "_model_module": "@jupyter-widgets/controls",
      "_model_module_version": "1.5.0",
      "_model_name": "HTMLModel",
      "_view_count": null,
      "_view_module": "@jupyter-widgets/controls",
      "_view_module_version": "1.5.0",
      "_view_name": "HTMLView",
      "description": "",
      "description_tooltip": null,
      "layout": "IPY_MODEL_c94cb54e16584473957cfc4728f92822",
      "placeholder": "​",
      "style": "IPY_MODEL_6065e836325d4088a371a29b735cb189",
      "value": " 97.8M/97.8M [01:29&lt;00:00, 1.14MB/s]"
     }
    },
    "6065e836325d4088a371a29b735cb189": {
     "model_module": "@jupyter-widgets/controls",
     "model_name": "DescriptionStyleModel",
     "state": {
      "_model_module": "@jupyter-widgets/controls",
      "_model_module_version": "1.5.0",
      "_model_name": "DescriptionStyleModel",
      "_view_count": null,
      "_view_module": "@jupyter-widgets/base",
      "_view_module_version": "1.2.0",
      "_view_name": "StyleView",
      "description_width": ""
     }
    },
    "a626e330f5f7437492f14b3bd8658e4e": {
     "model_module": "@jupyter-widgets/controls",
     "model_name": "HBoxModel",
     "state": {
      "_dom_classes": [],
      "_model_module": "@jupyter-widgets/controls",
      "_model_module_version": "1.5.0",
      "_model_name": "HBoxModel",
      "_view_count": null,
      "_view_module": "@jupyter-widgets/controls",
      "_view_module_version": "1.5.0",
      "_view_name": "HBoxView",
      "box_style": "",
      "children": [
       "IPY_MODEL_22fe724ce40e434cb9f6191ea5eee2c4",
       "IPY_MODEL_44e563736f514d80b3c807a72372d942"
      ],
      "layout": "IPY_MODEL_dacda0158fcb4c9495fda3f936d92470"
     }
    },
    "c94cb54e16584473957cfc4728f92822": {
     "model_module": "@jupyter-widgets/base",
     "model_name": "LayoutModel",
     "state": {
      "_model_module": "@jupyter-widgets/base",
      "_model_module_version": "1.2.0",
      "_model_name": "LayoutModel",
      "_view_count": null,
      "_view_module": "@jupyter-widgets/base",
      "_view_module_version": "1.2.0",
      "_view_name": "LayoutView",
      "align_content": null,
      "align_items": null,
      "align_self": null,
      "border": null,
      "bottom": null,
      "display": null,
      "flex": null,
      "flex_flow": null,
      "grid_area": null,
      "grid_auto_columns": null,
      "grid_auto_flow": null,
      "grid_auto_rows": null,
      "grid_column": null,
      "grid_gap": null,
      "grid_row": null,
      "grid_template_areas": null,
      "grid_template_columns": null,
      "grid_template_rows": null,
      "height": null,
      "justify_content": null,
      "justify_items": null,
      "left": null,
      "margin": null,
      "max_height": null,
      "max_width": null,
      "min_height": null,
      "min_width": null,
      "object_fit": null,
      "object_position": null,
      "order": null,
      "overflow": null,
      "overflow_x": null,
      "overflow_y": null,
      "padding": null,
      "right": null,
      "top": null,
      "visibility": null,
      "width": null
     }
    },
    "cead64c05a744f53b6fa4502206941f6": {
     "model_module": "@jupyter-widgets/controls",
     "model_name": "ProgressStyleModel",
     "state": {
      "_model_module": "@jupyter-widgets/controls",
      "_model_module_version": "1.5.0",
      "_model_name": "ProgressStyleModel",
      "_view_count": null,
      "_view_module": "@jupyter-widgets/base",
      "_view_module_version": "1.2.0",
      "_view_name": "StyleView",
      "bar_color": null,
      "description_width": "initial"
     }
    },
    "dacda0158fcb4c9495fda3f936d92470": {
     "model_module": "@jupyter-widgets/base",
     "model_name": "LayoutModel",
     "state": {
      "_model_module": "@jupyter-widgets/base",
      "_model_module_version": "1.2.0",
      "_model_name": "LayoutModel",
      "_view_count": null,
      "_view_module": "@jupyter-widgets/base",
      "_view_module_version": "1.2.0",
      "_view_name": "LayoutView",
      "align_content": null,
      "align_items": null,
      "align_self": null,
      "border": null,
      "bottom": null,
      "display": null,
      "flex": null,
      "flex_flow": null,
      "grid_area": null,
      "grid_auto_columns": null,
      "grid_auto_flow": null,
      "grid_auto_rows": null,
      "grid_column": null,
      "grid_gap": null,
      "grid_row": null,
      "grid_template_areas": null,
      "grid_template_columns": null,
      "grid_template_rows": null,
      "height": null,
      "justify_content": null,
      "justify_items": null,
      "left": null,
      "margin": null,
      "max_height": null,
      "max_width": null,
      "min_height": null,
      "min_width": null,
      "object_fit": null,
      "object_position": null,
      "order": null,
      "overflow": null,
      "overflow_x": null,
      "overflow_y": null,
      "padding": null,
      "right": null,
      "top": null,
      "visibility": null,
      "width": null
     }
    },
    "e71046d5b8f1482e897065e3e80b13d8": {
     "model_module": "@jupyter-widgets/base",
     "model_name": "LayoutModel",
     "state": {
      "_model_module": "@jupyter-widgets/base",
      "_model_module_version": "1.2.0",
      "_model_name": "LayoutModel",
      "_view_count": null,
      "_view_module": "@jupyter-widgets/base",
      "_view_module_version": "1.2.0",
      "_view_name": "LayoutView",
      "align_content": null,
      "align_items": null,
      "align_self": null,
      "border": null,
      "bottom": null,
      "display": null,
      "flex": null,
      "flex_flow": null,
      "grid_area": null,
      "grid_auto_columns": null,
      "grid_auto_flow": null,
      "grid_auto_rows": null,
      "grid_column": null,
      "grid_gap": null,
      "grid_row": null,
      "grid_template_areas": null,
      "grid_template_columns": null,
      "grid_template_rows": null,
      "height": null,
      "justify_content": null,
      "justify_items": null,
      "left": null,
      "margin": null,
      "max_height": null,
      "max_width": null,
      "min_height": null,
      "min_width": null,
      "object_fit": null,
      "object_position": null,
      "order": null,
      "overflow": null,
      "overflow_x": null,
      "overflow_y": null,
      "padding": null,
      "right": null,
      "top": null,
      "visibility": null,
      "width": null
     }
    }
   }
  }
 },
 "nbformat": 4,
 "nbformat_minor": 1
}
