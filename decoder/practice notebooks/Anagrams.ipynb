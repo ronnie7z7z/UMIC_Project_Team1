{
 "cells": [
  {
   "cell_type": "code",
   "execution_count": 1,
   "metadata": {},
   "outputs": [],
   "source": [
    "#before running run:\n",
    "#pip install nltk\n",
    "#python -m nltk.downloader all"
   ]
  },
  {
   "cell_type": "code",
   "execution_count": 1,
   "metadata": {},
   "outputs": [],
   "source": [
    "import nltk\n",
    "from nltk.corpus import wordnet as wn\n",
    "from collections import Counter"
   ]
  },
  {
   "cell_type": "code",
   "execution_count": 2,
   "metadata": {},
   "outputs": [
    {
     "name": "stdout",
     "output_type": "stream",
     "text": [
      "4\n"
     ]
    }
   ],
   "source": [
    "words = nltk.corpus.words.words('en')\n",
    "\n",
    "anagrams = nltk.defaultdict(list)\n",
    "for word in words:\n",
    "    key = ''.join(sorted(word))\n",
    "    anagrams[key].append(word)\n",
    "sample = 'train'\n",
    "sample = ''.join(sorted(sample))\n",
    "passcodes = anagrams[sample]\n",
    "\n",
    "\n",
    "print(len(passcodes))\n",
    "\n"
   ]
  },
  {
   "cell_type": "code",
   "execution_count": 3,
   "metadata": {},
   "outputs": [
    {
     "name": "stdout",
     "output_type": "stream",
     "text": [
      "['riant', 'train']\n"
     ]
    }
   ],
   "source": [
    "updated_passcodes = []\n",
    "for w in passcodes:\n",
    "    l = Counter([ss.pos() for ss in wn.synsets(w)])\n",
    "    if len(l) != 0:\n",
    "        updated_passcodes.append(w)\n",
    "print(updated_passcodes)"
   ]
  }
 ],
 "metadata": {
  "kernelspec": {
   "display_name": "Python 3",
   "language": "python",
   "name": "python3"
  },
  "language_info": {
   "codemirror_mode": {
    "name": "ipython",
    "version": 3
   },
   "file_extension": ".py",
   "mimetype": "text/x-python",
   "name": "python",
   "nbconvert_exporter": "python",
   "pygments_lexer": "ipython3",
   "version": "3.7.8"
  }
 },
 "nbformat": 4,
 "nbformat_minor": 4
}
