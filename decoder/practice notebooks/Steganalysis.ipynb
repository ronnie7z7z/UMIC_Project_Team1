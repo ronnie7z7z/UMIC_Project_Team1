{
 "cells": [
  {
   "cell_type": "code",
   "execution_count": 7,
   "metadata": {},
   "outputs": [],
   "source": [
    "import cv2 \n",
    "import numpy as np \n",
    "import random"
   ]
  },
  {
   "cell_type": "code",
   "execution_count": 22,
   "metadata": {},
   "outputs": [],
   "source": [
    "def encrypt():       \n",
    "    # img1 and img2 are the \n",
    "    # two input images \n",
    "    img1 = cv2.imread('images/cover5.jpg') \n",
    "    img1 = cv2.resize(img1, (256, 256), interpolation=cv2.INTER_AREA)\n",
    "    img2 = cv2.imread('Alphabet_dataset/R/img028-01003.png')   \n",
    "    img2 = cv2.resize(img2, (256, 256), interpolation=cv2.INTER_AREA)\n",
    "\n",
    "    for i in range(img2.shape[0]): \n",
    "\n",
    "        for j in range(img2.shape[1]): \n",
    "\n",
    "            for l in range(3): \n",
    "\n",
    "                # v1 and v2 are 8-bit pixel values \n",
    "                # of img1 and img2 respectively \n",
    "                v1 = format(img1[i][j][l], '08b') \n",
    "                v2 = format(img2[i][j][l], '08b') \n",
    "                  \n",
    "                # Taking 4 MSBs of each image \n",
    "                v3 = v1[:5] + v2[:3]  \n",
    "                #print('e', v1, v2, v3)\n",
    "                img1[i][j][l]= int(v3, 2) \n",
    "\n",
    "    cv2.imwrite('./images/img5.png', img1) "
   ]
  },
  {
   "cell_type": "code",
   "execution_count": 23,
   "metadata": {},
   "outputs": [],
   "source": [
    "encrypt()"
   ]
  },
  {
   "cell_type": "code",
   "execution_count": 3,
   "metadata": {},
   "outputs": [],
   "source": [
    "def decrypt(): \n",
    "\n",
    "    # Encrypted image \n",
    "    img = cv2.imread('images/pic3in2.png')  \n",
    "    width = img.shape[0] \n",
    "    height = img.shape[1] \n",
    "    \n",
    "    # img1 and img2 are two blank images \n",
    "    img1 = np.zeros((width, height, 3), np.uint8) \n",
    "    img2 = np.zeros((width, height, 3), np.uint8) \n",
    "\n",
    "    for i in range(width): \n",
    "\n",
    "        for j in range(height): \n",
    "\n",
    "            for l in range(3): \n",
    "\n",
    "                v1 = format(img[i][j][l], '08b') \n",
    "                v2 = v1[:5] + '000'\n",
    "                v3 = v1[5:] + '00000'\n",
    "                #print('d', v1, v2, v3)\n",
    "\n",
    "                # Appending data to img1 and img2 \n",
    "                img1[i][j][l]= int(v2, 2) \n",
    "                img2[i][j][l]= int(v3, 2) \n",
    "      \n",
    "    # These are two images produced from \n",
    "    # the encrypted image \n",
    "    cv2.imwrite('images/pic2_re.png', img1) \n",
    "    cv2.imwrite('images/pic3_re.png', img2) \n"
   ]
  },
  {
   "cell_type": "code",
   "execution_count": 4,
   "metadata": {},
   "outputs": [],
   "source": [
    "# Driver's code \n",
    "encrypt() \n",
    "decrypt()"
   ]
  }
 ],
 "metadata": {
  "kernelspec": {
   "display_name": "Python 3",
   "language": "python",
   "name": "python3"
  },
  "language_info": {
   "codemirror_mode": {
    "name": "ipython",
    "version": 3
   },
   "file_extension": ".py",
   "mimetype": "text/x-python",
   "name": "python",
   "nbconvert_exporter": "python",
   "pygments_lexer": "ipython3",
   "version": "3.7.8"
  }
 },
 "nbformat": 4,
 "nbformat_minor": 4
}
