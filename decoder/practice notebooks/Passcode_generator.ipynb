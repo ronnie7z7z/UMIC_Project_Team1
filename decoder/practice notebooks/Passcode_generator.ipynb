{
 "cells": [
  {
   "cell_type": "code",
   "execution_count": 9,
   "metadata": {},
   "outputs": [],
   "source": [
    "import cv2 as cv\n",
    "import numpy as np\n",
    "import sys\n",
    "import os\n",
    "import torch\n",
    "import torchvision\n",
    "from torchvision import transforms, datasets\n",
    "import matplotlib.pyplot as plt\n",
    "from PIL import Image\n",
    "import nltk\n",
    "from nltk.corpus import wordnet as wn\n",
    "from collections import Counter"
   ]
  },
  {
   "cell_type": "code",
   "execution_count": 10,
   "metadata": {},
   "outputs": [
    {
     "name": "stdout",
     "output_type": "stream",
     "text": [
      "3.7.8 (tags/v3.7.8:4b47a5b6ba, Jun 28 2020, 08:53:46) [MSC v.1916 64 bit (AMD64)]\n",
      "10.2\n",
      "1\n",
      "True\n"
     ]
    }
   ],
   "source": [
    "#Using GPU\n",
    "print(sys.version)\n",
    "if torch.cuda.is_available():\n",
    "    device = 'cuda'\n",
    "else:\n",
    "    device = 'cpu'\n",
    "#Checking for GPU\n",
    "print(torch.version.cuda)\n",
    "print(torch.cuda.device_count())\n",
    "print(torch.cuda.is_available())\n",
    "torch.cuda.empty_cache()"
   ]
  },
  {
   "cell_type": "code",
   "execution_count": 18,
   "metadata": {},
   "outputs": [
    {
     "name": "stdout",
     "output_type": "stream",
     "text": [
      "{'A': 0, 'B': 1, 'C': 2, 'D': 3, 'E': 4, 'F': 5, 'G': 6, 'H': 7, 'I': 8, 'J': 9, 'K': 10, 'L': 11, 'M': 12, 'N': 13, 'O': 14, 'P': 15, 'Q': 16, 'R': 17, 'S': 18, 'T': 19, 'U': 20, 'V': 21, 'W': 22, 'X': 23, 'Y': 24, 'Z': 25}\n",
      "{0: 'A', 1: 'B', 2: 'C', 3: 'D', 4: 'E', 5: 'F', 6: 'G', 7: 'H', 8: 'I', 9: 'J', 10: 'K', 11: 'L', 12: 'M', 13: 'N', 14: 'O', 15: 'P', 16: 'Q', 17: 'R', 18: 'S', 19: 'T', 20: 'U', 21: 'V', 22: 'W', 23: 'X', 24: 'Y', 25: 'Z'}\n"
     ]
    }
   ],
   "source": [
    "lookup = dict()\n",
    "reverselookup = dict()\n",
    "\n",
    "count = 0\n",
    "\n",
    "for j in os.listdir('./Alphabet_dataset/'):\n",
    "    if not j.startswith('ges'):\n",
    "        lookup[j] = count\n",
    "        reverselookup[count] = j\n",
    "        count += 1\n",
    "        \n",
    "print(lookup)\n",
    "print(reverselookup)"
   ]
  },
  {
   "cell_type": "code",
   "execution_count": 19,
   "metadata": {},
   "outputs": [],
   "source": [
    "model = torch.load('./full_resnet18.pth')"
   ]
  },
  {
   "cell_type": "code",
   "execution_count": 20,
   "metadata": {},
   "outputs": [],
   "source": [
    "image_size = 128\n",
    "\n",
    "def recognize_letter(img):    \n",
    "    transform = transforms.Compose([\n",
    "                transforms.Resize(size=image_size), \n",
    "                transforms.ToTensor(),\n",
    "                transforms.Normalize([0.485, 0.456, 0.406],\n",
    "                                     [0.229, 0.224, 0.225])  # Imagenet standards\n",
    "                ])\n",
    "    \n",
    "    with torch.no_grad():\n",
    "        img = transform(img)\n",
    "        img = img.view(1, 3, image_size, image_size)\n",
    "        img = img.to(device)#Passing to GPU\n",
    "        test_out = model(img.float()).cpu()\n",
    "        test_pred = torch.argmax(test_out, dim = 1, keepdim=True).cpu().numpy()\n",
    "        #test_pred_np = test_pred.cpu().numpy() \n",
    "        test_pred = np.reshape(test_pred, test_pred.shape[0])\n",
    "        print(reverselookup[test_pred[0]].lower(), end='')\n",
    "        return str(reverselookup[test_pred[0]]).lower()"
   ]
  },
  {
   "cell_type": "code",
   "execution_count": 21,
   "metadata": {},
   "outputs": [],
   "source": [
    "def decrypt(img): \n",
    "\n",
    "    # Encrypted image \n",
    "    #img = cv2.imread(filename)  \n",
    "    width = img.shape[0] \n",
    "    height = img.shape[1] \n",
    "    \n",
    "    # img1 and img2 are two blank images \n",
    "    img1 = np.zeros((width, height, 3), np.uint8) \n",
    "    img2 = np.zeros((width, height, 3), np.uint8) \n",
    "\n",
    "    for i in range(width): \n",
    "\n",
    "        for j in range(height): \n",
    "\n",
    "            for l in range(3): \n",
    "\n",
    "                v1 = format(img[i][j][l], '08b') \n",
    "                v2 = v1[:5] + '000'\n",
    "                v3 = v1[5:] + '00000'\n",
    "                #print('d', v1, v2, v3)\n",
    "\n",
    "                # Appending data to img1 and img2 \n",
    "                img1[i][j][l]= int(v2, 2) \n",
    "                img2[i][j][l]= int(v3, 2) \n",
    "      \n",
    "    # These are two images produced from \n",
    "    # the encrypted image \n",
    "    cover = img1\n",
    "    code = img2\n",
    "    return code\n"
   ]
  },
  {
   "cell_type": "code",
   "execution_count": 22,
   "metadata": {},
   "outputs": [
    {
     "name": "stdout",
     "output_type": "stream",
     "text": [
      "tniar"
     ]
    }
   ],
   "source": [
    "letters = []\n",
    "for i in range(5):\n",
    "    image = cv.imread('./images/encrypted' + str(i+1) + '.png')\n",
    "    decrypted = decrypt(image)\n",
    "    image = Image.fromarray(decrypted)\n",
    "    letters.append(recognize_letter(image))\n",
    "    \n",
    "sample = ''.join(sorted(letters))\n"
   ]
  },
  {
   "cell_type": "code",
   "execution_count": 23,
   "metadata": {},
   "outputs": [
    {
     "name": "stdout",
     "output_type": "stream",
     "text": [
      "['riant', 'train']\n"
     ]
    }
   ],
   "source": [
    "words = nltk.corpus.words.words('en')\n",
    "\n",
    "anagrams = nltk.defaultdict(list)\n",
    "for word in words:\n",
    "    key = ''.join(sorted(word))\n",
    "    anagrams[key].append(word)\n",
    "passcodes = anagrams[sample]\n",
    "updated_passcodes = []\n",
    "for w in passcodes:\n",
    "    l = Counter([ss.pos() for ss in wn.synsets(w)])\n",
    "    if len(l) != 0:\n",
    "        updated_passcodes.append(w)\n",
    "print(updated_passcodes)"
   ]
  }
 ],
 "metadata": {
  "kernelspec": {
   "display_name": "Python 3",
   "language": "python",
   "name": "python3"
  },
  "language_info": {
   "codemirror_mode": {
    "name": "ipython",
    "version": 3
   },
   "file_extension": ".py",
   "mimetype": "text/x-python",
   "name": "python",
   "nbconvert_exporter": "python",
   "pygments_lexer": "ipython3",
   "version": "3.7.8"
  }
 },
 "nbformat": 4,
 "nbformat_minor": 4
}
